{
 "cells": [
  {
   "cell_type": "code",
   "execution_count": 2,
   "metadata": {},
   "outputs": [],
   "source": [
    "import pandas as pd\n",
    "import numpy as np\n",
    "import datetime as dt\n",
    "from pathlib import Path\n",
    "%matplotlib inline"
   ]
  },
  {
   "cell_type": "code",
   "execution_count": 6,
   "metadata": {},
   "outputs": [
    {
     "data": {
      "text/plain": [
       "DatetimeIndex(['2015-03-16', '2015-03-17', '2015-03-18', '2015-03-19',\n",
       "               '2015-03-20', '2015-03-23', '2015-03-24', '2015-03-25',\n",
       "               '2015-03-26', '2015-03-27',\n",
       "               ...\n",
       "               '2019-05-13', '2019-05-14', '2019-05-15', '2019-05-16',\n",
       "               '2019-05-17', '2019-05-20', '2019-05-21', '2019-05-22',\n",
       "               '2019-05-23', '2019-05-24'],\n",
       "              dtype='datetime64[ns]', name='Date', length=1057, freq=None)"
      ]
     },
     "execution_count": 6,
     "metadata": {},
     "output_type": "execute_result"
    }
   ],
   "source": [
    "google_csv = Path(\"../4_morepandas/google.csv\")\n",
    "google = pd.read_csv(google_csv, parse_dates=True, index_col='Date', infer_datetime_format=True).sort_index()\n",
    "\n",
    "google.index"
   ]
  }
 ],
 "metadata": {
  "kernelspec": {
   "display_name": "Python 3",
   "language": "python",
   "name": "python3"
  },
  "language_info": {
   "codemirror_mode": {
    "name": "ipython",
    "version": 3
   },
   "file_extension": ".py",
   "mimetype": "text/x-python",
   "name": "python",
   "nbconvert_exporter": "python",
   "pygments_lexer": "ipython3",
   "version": "3.7.6"
  }
 },
 "nbformat": 4,
 "nbformat_minor": 4
}
